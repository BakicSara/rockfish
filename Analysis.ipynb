{
 "cells": [
  {
   "cell_type": "code",
   "execution_count": 53,
   "id": "290a8e00-9c6b-447e-ab90-7c80d4d26d16",
   "metadata": {},
   "outputs": [],
   "source": [
    "from ont_fast5_api.fast5_interface import get_fast5_file\n",
    "import mappy\n",
    "\n",
    "from pathlib import Path\n",
    "from dataclasses import dataclass\n",
    "import numpy as np\n",
    "import sys\n",
    "import struct\n",
    "\n",
    "from typing import *"
   ]
  },
  {
   "cell_type": "code",
   "execution_count": 29,
   "id": "7e852e68-b22e-406f-90b9-267218ca2096",
   "metadata": {},
   "outputs": [],
   "source": [
    "FASTQ_PATH = 'BaseCalled_template/Fastq'\n",
    "MOVE_TABLE_PATH = 'BaseCalled_template/Move'\n",
    "\n",
    "@dataclass\n",
    "class ReadInfo:\n",
    "    read_id: str\n",
    "    fastq: str\n",
    "    signal: np.ndarray\n",
    "    move_table: np.ndarray\n",
    "    block_stride: int\n",
    "\n",
    "    def get_seq_to_sig(self) -> np.ndarray:\n",
    "        move_table = np.append(self.move_table,\n",
    "                               1)  # Adding for easier indexing\n",
    "        return move_table.nonzero()[0] * self.block_stride\n",
    "\n",
    "    def get_seq_and_quals(self) -> Tuple[str, np.ndarray]:\n",
    "        data = self.fastq.strip().split('\\n')\n",
    "\n",
    "        sequence = data[1]\n",
    "        quals = np.array([ord(c) - 33 for c in data[3]], dtype=np.uint8)\n",
    "\n",
    "        return sequence, quals\n",
    "\n",
    "    def get_normalized_signal(self, start=0, end=None) -> np.ndarray:\n",
    "        signal = self.signal[start:end]\n",
    "        med = np.median(signal)\n",
    "        mad = np.median(np.abs(signal - med))\n",
    "\n",
    "        return (signal - med) / (1.4826 * mad)\n",
    "\n",
    "\n",
    "with get_fast5_file('single/0/0007dcce-b86b-4221-80ee-ea3ab41ad801.fast5', mode='r') as f5:\n",
    "    read = list(f5.get_reads())[0]\n",
    "        \n",
    "    bc_analysis = read.get_latest_analysis('Basecall_1D')\n",
    "    bc_summary = read.get_summary_data(bc_analysis)\n",
    "\n",
    "    block_stride = bc_summary['basecall_1d_template']['block_stride']\n",
    "    move_table = read.get_analysis_dataset(bc_analysis, MOVE_TABLE_PATH)\n",
    "    fastq = read.get_analysis_dataset(bc_analysis, FASTQ_PATH)\n",
    "\n",
    "    seg_analysis = read.get_latest_analysis('Segmentation')\n",
    "    seg_summary = read.get_summary_data(seg_analysis)\n",
    "    start = seg_summary['segmentation']['first_sample_template']\n",
    "    signal = read.get_raw_data(start=start, scale=True)\n",
    "\n",
    "    read_info = ReadInfo(read.read_id, fastq, signal, move_table, block_stride)"
   ]
  },
  {
   "cell_type": "code",
   "execution_count": 34,
   "id": "b05f8eb5-8a9b-4cf1-add7-27bebde3250d",
   "metadata": {},
   "outputs": [],
   "source": [
    "aligner = mappy.Aligner('chr20.fastq', best_n=1)"
   ]
  },
  {
   "cell_type": "code",
   "execution_count": 35,
   "id": "abcc51d4-46b9-4ca8-9dbe-86e1e3ca7d77",
   "metadata": {},
   "outputs": [
    {
     "data": {
      "text/plain": [
       "2"
      ]
     },
     "execution_count": 35,
     "metadata": {},
     "output_type": "execute_result"
    }
   ],
   "source": [
    "seq_to_sig = read_info.get_seq_to_sig()\n",
    "signal = read_info.get_normalized_signal(end=seq_to_sig[-1]) \\\n",
    "                        .astype(np.half)\n",
    "query, _ = read_info.get_seq_and_quals()\n",
    "\n",
    "alignments = list(aligner.map(query))\n",
    "len(alignments)"
   ]
  },
  {
   "cell_type": "code",
   "execution_count": 41,
   "id": "71cc0d85-b3d0-40d0-8839-e84707d571dd",
   "metadata": {},
   "outputs": [],
   "source": [
    "@dataclass\n",
    "class AlignmentInfo:\n",
    "    ctg: str\n",
    "    r_start: int\n",
    "    r_end: int\n",
    "    fwd_strand: bool\n",
    "    ref_to_query: np.ndarray32601808\n",
    "    \n",
    "alignment = alignments[0]\n",
    "\n",
    "ref_len = alignment.r_en - alignment.r_st\n",
    "cigar = alignment.cigar if alignment.strand == 1 else reversed(alignment.cigar)\n",
    "rpos, qpos = 0, alignment.q_st # if alignment.strand == 1 else len(query) - alignment.q_en\n",
    "\n",
    "ref_to_query = np.empty((ref_len + 1,), dtype=int)\n",
    "for l, op in cigar:\n",
    "    if op == 0 or op == 7 or op == 8:  # Match or mismatch\n",
    "        for i in range(l):\n",
    "            ref_to_query[rpos + i] = qpos + i\n",
    "        rpos += l\n",
    "        qpos += l\n",
    "    elif op == 1:  # Insertion\n",
    "        qpos += l\n",
    "    elif op == 2:\n",
    "        for i in range(l):\n",
    "            ref_to_query[rpos + i] = qpos\n",
    "        rpos += l\n",
    "ref_to_query[rpos] = qpos  # Add the last one (excluded end)\n",
    "\n",
    "aln_info = AlignmentInfo(alignment.ctg, alignment.r_st, alignment.r_en, \n",
    "                     alignment.strand == 1, ref_to_query)"
   ]
  },
  {
   "cell_type": "code",
   "execution_count": 45,
   "id": "e526ae73-4a79-432e-b778-4cf7be100195",
   "metadata": {},
   "outputs": [
    {
     "data": {
      "text/plain": [
       "(2428, 2429)"
      ]
     },
     "execution_count": 45,
     "metadata": {},
     "output_type": "execute_result"
    }
   ],
   "source": [
    "ref_seq = aligner.seq('chr20', alignment.r_st, alignment.r_en)\n",
    "len(ref_seq), len(aln_info.ref_to_query)"
   ]
  },
  {
   "cell_type": "code",
   "execution_count": 50,
   "id": "051e302a-62c3-4c13-b7b7-fa555ab10287",
   "metadata": {},
   "outputs": [
    {
     "name": "stdout",
     "output_type": "stream",
     "text": [
      "4681\n"
     ]
    }
   ],
   "source": [
    "f_idx = open('nije_bitno.rf.idx', 'rb')\n",
    "n_examples = int.from_bytes(f_idx.read(4), byteorder=sys.byteorder)\n",
    "print(n_examples)\n",
    "\n",
    "indices = [int.from_bytes(f_idx.read(8), byteorder=sys.byteorder) for _ in range(n_examples)]"
   ]
  },
  {
   "cell_type": "code",
   "execution_count": 54,
   "id": "972cddab-3edc-41ff-be28-1070916b4538",
   "metadata": {},
   "outputs": [
    {
     "data": {
      "text/plain": [
       "4681"
      ]
     },
     "execution_count": 54,
     "metadata": {},
     "output_type": "execute_result"
    }
   ],
   "source": [
    "data = open('nije_bitno.rf', 'rb')\n",
    "\n",
    "all_examples = []\n",
    "for _ in range(n_examples):\n",
    "    data.seek(indices[0])\n",
    "    r_id, ctg, pos, n_points = struct.unpack('=36sHIH', data.read(44))\n",
    "    if r_id.decode() == '0007dcce-b86b-4221-80ee-ea3ab41ad801':\n",
    "        *points, seq = struct.unpack(f'{n_points}e31s', data.read(n_points*2+31))\n",
    "        all_examples.append((pos, points, seq.decode()))\n",
    "        \n",
    "len(all_examples)"
   ]
  },
  {
   "cell_type": "code",
   "execution_count": 56,
   "id": "b0d9a2d7-403e-41f7-8381-34d01c867ba4",
   "metadata": {},
   "outputs": [
    {
     "data": {
      "text/plain": [
       "32601808"
      ]
     },
     "execution_count": 56,
     "metadata": {},
     "output_type": "execute_result"
    }
   ],
   "source": [
    "example = all_examples[0]\n",
    "example[0]"
   ]
  },
  {
   "cell_type": "code",
   "execution_count": 57,
   "id": "e54a1648-65f8-44e0-9b07-06dbe9574127",
   "metadata": {},
   "outputs": [
    {
     "data": {
      "text/plain": [
       "'CG'"
      ]
     },
     "execution_count": 57,
     "metadata": {},
     "output_type": "execute_result"
    }
   ],
   "source": [
    "rel_pos = 32601808 - alignment.r_st\n",
    "ref_seq[rel_pos:rel_pos+2]"
   ]
  },
  {
   "cell_type": "code",
   "execution_count": 58,
   "id": "fcbad374-7196-4e78-a1b0-c91731d1e173",
   "metadata": {},
   "outputs": [
    {
     "data": {
      "text/plain": [
       "array([ 85,  86,  87,  88,  89,  90,  91,  92,  93,  94,  95,  96,  97,\n",
       "        98,  99, 100, 101, 102, 103, 104, 105, 106, 107, 108, 109, 110,\n",
       "       111, 112, 113, 114, 115])"
      ]
     },
     "execution_count": 58,
     "metadata": {},
     "output_type": "execute_result"
    }
   ],
   "source": [
    "aln_info.ref_to_query[rel_pos-15:rel_pos+16]"
   ]
  },
  {
   "cell_type": "code",
   "execution_count": 60,
   "id": "5efa715a-4a1e-47a7-9ab6-bc57f212e6d6",
   "metadata": {},
   "outputs": [
    {
     "data": {
      "text/plain": [
       "array([-0.9487 , -0.762  , -0.839  , -0.795  , -0.6743 , -0.4004 ,\n",
       "       -0.3455 , -0.3674 , -0.3345 , -0.3015 , -0.3674 , -0.3345 ,\n",
       "       -0.444  , -0.2249 , -0.159  ,  1.793  ,  1.946  ,  1.9795 ,\n",
       "        1.925  ,  2.09   ,  1.497  ,  1.99   ,  1.256  ,  0.74   ,\n",
       "        0.839  ,  0.9595 , -0.3674 , -0.3894 , -0.6523 , -0.6855 ,\n",
       "       -0.5317 , -0.6523 , -0.499  , -0.5977 , -0.587  , -0.6636 ,\n",
       "       -0.5977 , -0.6196 , -0.5537 , -0.6743 , -0.499  , -0.521  ,\n",
       "       -0.2905 , -0.6743 , -0.609  , -0.1371 , -0.609  , -0.806  ,\n",
       "       -0.5317 , -0.6636 , -0.74   , -0.3674 , -0.5537 , -0.444  ,\n",
       "       -0.1042 , -0.3564 , -0.817  , -0.9487 , -1.091  , -1.321  ,\n",
       "       -0.9595 , -1.179  , -0.5757 , -0.4004 , -0.2905 , -0.4004 ,\n",
       "       -0.4004 , -0.3455 , -0.3674 , -0.444  ,  0.499  ,  2.012  ,\n",
       "        1.902  ,  1.464  ,  2.145  ,  1.596  ,  1.804  ,  1.946  ,\n",
       "        1.925  ,  1.859  ,  1.124  ,  0.828  ,  0.839  ,  0.7295 ,\n",
       "        0.795  ,  0.6196 ,  0.5317 ,  0.521  , -0.2688 , -0.3894 ,\n",
       "       -0.4114 , -0.4224 , -0.609  , -0.4224 , -0.7183 , -0.7734 ,\n",
       "       -1.201  , -1.277  , -1.3    , -1.091  , -1.277  , -0.9707 ,\n",
       "       -0.6963 , -0.543  , -0.488  , -0.5757 , -0.488  ,  0.4004 ,\n",
       "        2.287  ,  2.154  ,  2.287  ,  2.275  ,  1.42   ,  1.223  ,\n",
       "        1.3    ,  1.409  ,  1.376  ,  1.409  ,  1.311  ,  1.233  ,\n",
       "        1.212  ,  1.333  ,  0.7515 ,  0.1152 ,  0.1809 , -0.1809 ,\n",
       "       -0.0713 , -0.1042 ,  0.0932 , -0.0384 , -0.00548,  0.0932 ,\n",
       "        0.01645,  0.1261 ,  0.2688 ,  0.2467 ,  0.1152 ,  0.1371 ,\n",
       "        0.433  ,  0.7183 ,  0.6523 ,  0.7515 ,  0.927  ,  1.892  ,\n",
       "        1.969  ,  2.066  ,  1.925  ,  1.705  ,  1.914  ,  1.771  ,\n",
       "        1.059  ,  1.135  ,  1.015  ,  0.9707 ,  1.048  , -0.01645,\n",
       "       -0.2358 , -0.1371 , -0.5977 , -0.4004 , -0.6855 , -0.9814 ,\n",
       "       -0.839  ,  0.1152 ,  1.3545 ,  1.398  ,  1.135  ,  1.179  ,\n",
       "        1.289  ,  1.42   ,  1.344  ,  1.388  ,  0.477  ,  0.631  ,\n",
       "        0.587  ,  0.894  ,  1.398  ,  0.521  , -0.2578 , -0.0823 ,\n",
       "       -0.2467 , -0.1261 , -0.159  , -0.2029 , -0.3455 , -0.2249 ,\n",
       "       -0.2358 , -0.1152 , -0.3125 , -0.3345 , -0.2905 , -0.3125 ,\n",
       "       -0.2139 , -0.2139 ,  0.817  ,  1.815  ,  1.464  ,  1.771  ,\n",
       "        1.53   ,  1.87   ,  1.902  ,  1.705  ,  2.012  ,  0.9927 ,\n",
       "        1.42   ,  1.914  ,  1.497  ,  0.6855 ,  0.5757 ,  0.51   ,\n",
       "        0.521  ,  0.455  ,  0.455  ,  0.6523 ,  0.565  ,  0.455  ,\n",
       "        0.4004 ,  0.488  ,  0.4114 ,  0.488  ,  0.609  ,  0.4224 ,\n",
       "        0.6523 ,  0.466  ,  0.444  ,  0.6416 ,  0.499  , -0.1809 ,\n",
       "       -0.2688 , -0.0932 ], dtype=float16)"
      ]
     },
     "execution_count": 60,
     "metadata": {},
     "output_type": "execute_result"
    }
   ],
   "source": [
    "seq_to_sig[85], seq_to_sig[115]\n",
    "signal[710:940]"
   ]
  },
  {
   "cell_type": "code",
   "execution_count": 61,
   "id": "aecffc00-9a9e-4a45-a59a-c4c3f27b9973",
   "metadata": {},
   "outputs": [
    {
     "data": {
      "text/plain": [
       "[-0.94873046875,\n",
       " -0.76220703125,\n",
       " -0.8388671875,\n",
       " -0.794921875,\n",
       " -0.67431640625,\n",
       " -0.400390625,\n",
       " -0.345458984375,\n",
       " -0.367431640625,\n",
       " -0.33447265625,\n",
       " -0.301513671875,\n",
       " -0.367431640625,\n",
       " -0.33447265625,\n",
       " -0.444091796875,\n",
       " -0.224853515625,\n",
       " -0.1590576171875,\n",
       " 1.79296875,\n",
       " 1.9462890625,\n",
       " 1.9794921875,\n",
       " 1.9248046875,\n",
       " 2.08984375,\n",
       " 1.4970703125,\n",
       " 1.990234375,\n",
       " 1.255859375,\n",
       " 0.740234375,\n",
       " 0.8388671875,\n",
       " 0.95947265625,\n",
       " -0.367431640625,\n",
       " -0.389404296875,\n",
       " -0.65234375,\n",
       " -0.685546875,\n",
       " -0.53173828125,\n",
       " -0.65234375,\n",
       " -0.4990234375,\n",
       " -0.59765625,\n",
       " -0.5869140625,\n",
       " -0.66357421875,\n",
       " -0.59765625,\n",
       " -0.61962890625,\n",
       " -0.5537109375,\n",
       " -0.67431640625,\n",
       " -0.4990234375,\n",
       " -0.52099609375,\n",
       " -0.29052734375,\n",
       " -0.67431640625,\n",
       " -0.60888671875,\n",
       " -0.1370849609375,\n",
       " -0.60888671875,\n",
       " -0.80615234375,\n",
       " -0.53173828125,\n",
       " -0.66357421875,\n",
       " -0.740234375,\n",
       " -0.367431640625,\n",
       " -0.5537109375,\n",
       " -0.444091796875,\n",
       " -0.10418701171875,\n",
       " -0.3564453125,\n",
       " -0.81689453125,\n",
       " -0.94873046875,\n",
       " -1.0908203125,\n",
       " -1.3212890625,\n",
       " -0.95947265625,\n",
       " -1.1787109375,\n",
       " -0.57568359375,\n",
       " -0.400390625,\n",
       " -0.29052734375,\n",
       " -0.400390625,\n",
       " -0.400390625,\n",
       " -0.345458984375,\n",
       " -0.367431640625,\n",
       " -0.444091796875,\n",
       " 0.4990234375,\n",
       " 2.01171875,\n",
       " 1.90234375,\n",
       " 1.4638671875,\n",
       " 2.14453125,\n",
       " 1.595703125,\n",
       " 1.8037109375,\n",
       " 1.9462890625,\n",
       " 1.9248046875,\n",
       " 1.859375,\n",
       " 1.1240234375,\n",
       " 0.828125,\n",
       " 0.8388671875,\n",
       " 0.7294921875,\n",
       " 0.794921875,\n",
       " 0.61962890625,\n",
       " 0.53173828125,\n",
       " 0.52099609375,\n",
       " -0.268798828125,\n",
       " -0.389404296875,\n",
       " -0.411376953125,\n",
       " -0.42236328125,\n",
       " -0.60888671875,\n",
       " -0.42236328125,\n",
       " -0.71826171875,\n",
       " -0.7734375,\n",
       " -1.201171875,\n",
       " -1.27734375,\n",
       " -1.2998046875,\n",
       " -1.0908203125,\n",
       " -1.27734375,\n",
       " -0.970703125,\n",
       " -0.6962890625,\n",
       " -0.54296875,\n",
       " -0.488037109375,\n",
       " -0.57568359375,\n",
       " -0.488037109375,\n",
       " 0.400390625,\n",
       " 2.287109375,\n",
       " 2.154296875,\n",
       " 2.287109375,\n",
       " 2.275390625,\n",
       " 1.419921875,\n",
       " 1.22265625,\n",
       " 1.2998046875,\n",
       " 1.4091796875,\n",
       " 1.3759765625,\n",
       " 1.4091796875,\n",
       " 1.310546875,\n",
       " 1.2333984375,\n",
       " 1.2119140625,\n",
       " 1.3330078125,\n",
       " 0.75146484375,\n",
       " 0.11517333984375,\n",
       " 0.180908203125,\n",
       " -0.180908203125,\n",
       " -0.0712890625,\n",
       " -0.10418701171875,\n",
       " 0.09320068359375,\n",
       " -0.03839111328125,\n",
       " -0.005481719970703125,\n",
       " 0.09320068359375,\n",
       " 0.016448974609375,\n",
       " 0.1260986328125,\n",
       " 0.268798828125,\n",
       " 0.2467041015625,\n",
       " 0.11517333984375,\n",
       " 0.1370849609375,\n",
       " 0.43310546875,\n",
       " 0.71826171875,\n",
       " 0.65234375,\n",
       " 0.75146484375,\n",
       " 0.9267578125,\n",
       " 1.8916015625,\n",
       " 1.96875,\n",
       " 2.06640625,\n",
       " 1.9248046875,\n",
       " 1.705078125,\n",
       " 1.9140625,\n",
       " 1.771484375,\n",
       " 1.05859375,\n",
       " 1.134765625,\n",
       " 1.0146484375,\n",
       " 0.970703125,\n",
       " 1.0478515625,\n",
       " -0.016448974609375,\n",
       " -0.23583984375,\n",
       " -0.1370849609375,\n",
       " -0.59765625,\n",
       " -0.400390625,\n",
       " -0.685546875,\n",
       " -0.9814453125,\n",
       " -0.8388671875,\n",
       " 0.11517333984375,\n",
       " 1.3544921875,\n",
       " 1.3984375,\n",
       " 1.134765625,\n",
       " 1.1787109375,\n",
       " 1.2890625,\n",
       " 1.419921875,\n",
       " 1.34375,\n",
       " 1.3876953125,\n",
       " 0.47705078125,\n",
       " 0.630859375,\n",
       " 0.5869140625,\n",
       " 0.89404296875,\n",
       " 1.3984375,\n",
       " 0.52099609375,\n",
       " -0.2578125,\n",
       " -0.082275390625,\n",
       " -0.2467041015625,\n",
       " -0.1260986328125,\n",
       " -0.1590576171875,\n",
       " -0.202880859375,\n",
       " -0.345458984375,\n",
       " -0.224853515625,\n",
       " -0.23583984375,\n",
       " -0.11517333984375,\n",
       " -0.3125,\n",
       " -0.33447265625,\n",
       " -0.29052734375,\n",
       " -0.3125,\n",
       " -0.2138671875,\n",
       " -0.2138671875,\n",
       " 0.81689453125,\n",
       " 1.8154296875,\n",
       " 1.4638671875,\n",
       " 1.771484375,\n",
       " 1.5302734375,\n",
       " 1.8701171875,\n",
       " 1.90234375,\n",
       " 1.705078125,\n",
       " 2.01171875,\n",
       " 0.99267578125,\n",
       " 1.419921875,\n",
       " 1.9140625,\n",
       " 1.4970703125,\n",
       " 0.685546875,\n",
       " 0.57568359375,\n",
       " 0.509765625,\n",
       " 0.52099609375,\n",
       " 0.455078125,\n",
       " 0.455078125,\n",
       " 0.65234375,\n",
       " 0.56494140625,\n",
       " 0.455078125,\n",
       " 0.400390625,\n",
       " 0.488037109375,\n",
       " 0.411376953125,\n",
       " 0.488037109375,\n",
       " 0.60888671875,\n",
       " 0.42236328125,\n",
       " 0.65234375,\n",
       " 0.466064453125,\n",
       " 0.444091796875,\n",
       " 0.6416015625,\n",
       " 0.4990234375,\n",
       " -0.180908203125,\n",
       " -0.268798828125,\n",
       " -0.09320068359375,\n",
       " -0.466064453125,\n",
       " -0.7294921875,\n",
       " -1.00390625,\n",
       " -1.0908203125,\n",
       " -1.1240234375,\n",
       " -1.2666015625,\n",
       " -1.16796875,\n",
       " -1.11328125,\n",
       " -0.9375,\n",
       " -1.00390625,\n",
       " -0.8828125,\n",
       " -0.75146484375,\n",
       " -0.466064453125,\n",
       " -0.2578125,\n",
       " -0.389404296875]"
      ]
     },
     "execution_count": 61,
     "metadata": {},
     "output_type": "execute_result"
    }
   ],
   "source": [
    "example[1]"
   ]
  },
  {
   "cell_type": "code",
   "execution_count": 20,
   "id": "193750d4-fedc-438f-bbea-8f76a4eab073",
   "metadata": {},
   "outputs": [
    {
     "name": "stdout",
     "output_type": "stream",
     "text": [
      "0007dcce-b86b-4221-80ee-ea3ab41ad801\n"
     ]
    }
   ],
   "source": [
    "with get_fast5_file('single/0/0007dcce-b86b-4221-80ee-ea3ab41ad801.fast5', mode='r') as f5:\n",
    "    read = list(f5.get_reads())[0]\n",
    "    print(read.read_id)"
   ]
  }
 ],
 "metadata": {
  "kernelspec": {
   "display_name": "Python 3",
   "language": "python",
   "name": "python3"
  },
  "language_info": {
   "codemirror_mode": {
    "name": "ipython",
    "version": 3
   },
   "file_extension": ".py",
   "mimetype": "text/x-python",
   "name": "python",
   "nbconvert_exporter": "python",
   "pygments_lexer": "ipython3",
   "version": "3.7.12"
  }
 },
 "nbformat": 4,
 "nbformat_minor": 5
}
